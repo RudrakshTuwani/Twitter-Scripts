{
 "cells": [
  {
   "cell_type": "code",
   "execution_count": 1,
   "metadata": {
    "collapsed": false
   },
   "outputs": [],
   "source": [
    "import pandas as pd\n",
    "import numpy as np\n",
    "import matplotlib.pyplot as plt\n",
    "import seaborn as sns\n",
    "from pymongo import MongoClient\n",
    "from pprint import pprint\n",
    "import datetime\n",
    "\n",
    "%matplotlib inline"
   ]
  },
  {
   "cell_type": "code",
   "execution_count": 2,
   "metadata": {
    "collapsed": false
   },
   "outputs": [
    {
     "data": {
      "text/html": [
       "<div>\n",
       "<table border=\"1\" class=\"dataframe\">\n",
       "  <thead>\n",
       "    <tr style=\"text-align: right;\">\n",
       "      <th></th>\n",
       "      <th>Name</th>\n",
       "      <th>ScreenName</th>\n",
       "      <th>Id</th>\n",
       "      <th>Description</th>\n",
       "      <th>Statuses</th>\n",
       "      <th>Followers</th>\n",
       "      <th>Friends</th>\n",
       "      <th>Created</th>\n",
       "      <th>Contributors</th>\n",
       "      <th>TweetsFavourite</th>\n",
       "      <th>TwitterLists</th>\n",
       "      <th>Location</th>\n",
       "      <th>Language</th>\n",
       "      <th>Verified</th>\n",
       "      <th>Protected</th>\n",
       "    </tr>\n",
       "  </thead>\n",
       "  <tbody>\n",
       "    <tr>\n",
       "      <th>0</th>\n",
       "      <td>Gajanan Jayderao Vas</td>\n",
       "      <td>jayderao</td>\n",
       "      <td>706099569935806465</td>\n",
       "      <td></td>\n",
       "      <td>0</td>\n",
       "      <td>0</td>\n",
       "      <td>12</td>\n",
       "      <td>2016-03-05</td>\n",
       "      <td>False</td>\n",
       "      <td>0</td>\n",
       "      <td>0</td>\n",
       "      <td></td>\n",
       "      <td>mr</td>\n",
       "      <td>False</td>\n",
       "      <td>False</td>\n",
       "    </tr>\n",
       "    <tr>\n",
       "      <th>1</th>\n",
       "      <td>V murty</td>\n",
       "      <td>Vmurty2</td>\n",
       "      <td>706098210087931904</td>\n",
       "      <td></td>\n",
       "      <td>0</td>\n",
       "      <td>1</td>\n",
       "      <td>63</td>\n",
       "      <td>2016-03-05</td>\n",
       "      <td>False</td>\n",
       "      <td>0</td>\n",
       "      <td>0</td>\n",
       "      <td></td>\n",
       "      <td>en</td>\n",
       "      <td>False</td>\n",
       "      <td>False</td>\n",
       "    </tr>\n",
       "    <tr>\n",
       "      <th>2</th>\n",
       "      <td>Shubham Singh</td>\n",
       "      <td>shubham38916728</td>\n",
       "      <td>705798614426083328</td>\n",
       "      <td></td>\n",
       "      <td>0</td>\n",
       "      <td>23</td>\n",
       "      <td>438</td>\n",
       "      <td>2016-03-04</td>\n",
       "      <td>False</td>\n",
       "      <td>0</td>\n",
       "      <td>0</td>\n",
       "      <td></td>\n",
       "      <td>en</td>\n",
       "      <td>False</td>\n",
       "      <td>False</td>\n",
       "    </tr>\n",
       "    <tr>\n",
       "      <th>3</th>\n",
       "      <td>Pushpendra Rastogi</td>\n",
       "      <td>PRastogi1963</td>\n",
       "      <td>4559217552</td>\n",
       "      <td></td>\n",
       "      <td>37</td>\n",
       "      <td>72</td>\n",
       "      <td>710</td>\n",
       "      <td>2015-12-14</td>\n",
       "      <td>False</td>\n",
       "      <td>19</td>\n",
       "      <td>0</td>\n",
       "      <td></td>\n",
       "      <td>en</td>\n",
       "      <td>False</td>\n",
       "      <td>False</td>\n",
       "    </tr>\n",
       "    <tr>\n",
       "      <th>4</th>\n",
       "      <td>Zakir Khan</td>\n",
       "      <td>ZakirHbsa</td>\n",
       "      <td>706094947456282628</td>\n",
       "      <td></td>\n",
       "      <td>1</td>\n",
       "      <td>6</td>\n",
       "      <td>79</td>\n",
       "      <td>2016-03-05</td>\n",
       "      <td>False</td>\n",
       "      <td>3</td>\n",
       "      <td>0</td>\n",
       "      <td></td>\n",
       "      <td>en</td>\n",
       "      <td>False</td>\n",
       "      <td>False</td>\n",
       "    </tr>\n",
       "  </tbody>\n",
       "</table>\n",
       "</div>"
      ],
      "text/plain": [
       "                   Name       ScreenName                  Id Description  \\\n",
       "0  Gajanan Jayderao Vas         jayderao  706099569935806465               \n",
       "1               V murty          Vmurty2  706098210087931904               \n",
       "2         Shubham Singh  shubham38916728  705798614426083328               \n",
       "3    Pushpendra Rastogi     PRastogi1963          4559217552               \n",
       "4            Zakir Khan        ZakirHbsa  706094947456282628               \n",
       "\n",
       "   Statuses  Followers  Friends     Created Contributors  TweetsFavourite  \\\n",
       "0         0          0       12  2016-03-05        False                0   \n",
       "1         0          1       63  2016-03-05        False                0   \n",
       "2         0         23      438  2016-03-04        False                0   \n",
       "3        37         72      710  2015-12-14        False               19   \n",
       "4         1          6       79  2016-03-05        False                3   \n",
       "\n",
       "   TwitterLists Location Language Verified Protected  \n",
       "0             0                mr    False     False  \n",
       "1             0                en    False     False  \n",
       "2             0                en    False     False  \n",
       "3             0                en    False     False  \n",
       "4             0                en    False     False  "
      ]
     },
     "execution_count": 2,
     "metadata": {},
     "output_type": "execute_result"
    }
   ],
   "source": [
    "# Opens MongoDB Database\n",
    "client = MongoClient()\n",
    "db = client['Twitter_backup']\n",
    "followers = db['Followers']\n",
    "followers_added = db['Followers_added']\n",
    "\n",
    "# Feeds all the follower data into a dataframe\n",
    "fof = []\n",
    "\n",
    "for follower in followers.find():\n",
    "    fof.append([follower['name'],\n",
    "                follower['screen_name'], \n",
    "                follower['id'],\n",
    "                follower['description'],\n",
    "                follower['statuses_count'],\n",
    "                follower['followers_count'],\n",
    "                follower['friends_count'],\n",
    "                follower['created_at'],\n",
    "                follower['contributors_enabled'],\n",
    "                follower['favourites_count'],\n",
    "                follower['listed_count'],\n",
    "                follower['location'],\n",
    "                follower['lang'],\n",
    "                follower['verified'],\n",
    "                follower['protected']])\n",
    "\n",
    "followers = pd.DataFrame(fof, columns=['Name',\n",
    "                                       'ScreenName',\n",
    "                                       'Id',\n",
    "                                       'Description',\n",
    "                                       'Statuses',\n",
    "                                       'Followers',\n",
    "                                       'Friends',\n",
    "                                       'Created',\n",
    "                                       'Contributors',\n",
    "                                       'TweetsFavourite',\n",
    "                                       'TwitterLists',\n",
    "                                       'Location',\n",
    "                                       'Language',\n",
    "                                       'Verified',\n",
    "                                       'Protected'])\n",
    "\n",
    "\n",
    "# Parse data of creation as a python datetime object\n",
    "def parse_time(string):\n",
    "    dt_obj = datetime.datetime.strptime(string, '%a %b %d %H:%M:%S +0000 %Y')\n",
    "    return dt_obj.date()\n",
    "\n",
    "followers['Created'] = followers.Created.apply(parse_time)\n",
    "\n",
    "followers.head()"
   ]
  },
  {
   "cell_type": "markdown",
   "metadata": {},
   "source": [
    "# Twitter accounts creation date for followers"
   ]
  },
  {
   "cell_type": "code",
   "execution_count": 135,
   "metadata": {
    "collapsed": false
   },
   "outputs": [
    {
     "data": {
      "image/png": "[encoded data removed]",
      "text/plain": [
       "<matplotlib.figure.Figure at 0x7f0707bca510>"
      ]
     },
     "metadata": {},
     "output_type": "display_data"
    }
   ],
   "source": [
    "# Plots the creation of Twitter accunts for followers year wise\n",
    "df = pd.DataFrame()\n",
    "df['date'] = followers['Created']\n",
    "df['date'] = df.date.astype(\"datetime64\")\n",
    "ax = df.groupby([df.date.dt.year]).count().plot(kind=\"bar\", figsize=[15,10], color='steelblue', legend=False)\n",
    "plt.yticks([(i*1000) for i in range(25)])\n",
    "plt.title('Number of Accounts created by Year')\n",
    "plt.xlabel('Year')\n",
    "\n",
    "def make_appear_height(axel):\n",
    "    for p in axel.patches:\n",
    "        height = p.get_height()\n",
    "        axel.text(p.get_x()+p.get_width()/2, int(round(height, 1)), int(1*height), ha = 'center', va = 'bottom')\n",
    "    return plt.show()\n",
    "\n",
    "make_appear_height(ax)"
   ]
  },
  {
   "cell_type": "markdown",
   "metadata": {},
   "source": [
    "# Inactive Followers:"
   ]
  },
  {
   "cell_type": "raw",
   "metadata": {},
   "source": [
    "Will have to analyze this using the tweet data"
   ]
  },
  {
   "cell_type": "markdown",
   "metadata": {},
   "source": [
    "# Distribution of followers country and city wise:\n",
    "    "
   ]
  },
  {
   "cell_type": "code",
   "execution_count": 4,
   "metadata": {
    "collapsed": false
   },
   "outputs": [
    {
     "name": "stdout",
     "output_type": "stream",
     "text": [
      "The total number of followers whose location data is available is 10171 out of 38954.\n",
      "\n",
      "The data quality is pretty bad and there is no way to map our followers.\n"
     ]
    }
   ],
   "source": [
    "loc_followers = len(followers[followers.Location != ''])\n",
    "tot_followers = len(followers)\n",
    "print 'The total number of followers whose location data is available is %d out of %d.' %(loc_followers,tot_followers)\n",
    "print ''\n",
    "print 'The data quality is pretty bad and there is no way to map our followers.'"
   ]
  },
  {
   "cell_type": "markdown",
   "metadata": {},
   "source": [
    "# Popularity of followers:"
   ]
  },
  {
   "cell_type": "code",
   "execution_count": 5,
   "metadata": {
    "collapsed": false
   },
   "outputs": [
    {
     "data": {
      "text/html": [
       "<div>\n",
       "<table border=\"1\" class=\"dataframe\">\n",
       "  <thead>\n",
       "    <tr style=\"text-align: right;\">\n",
       "      <th></th>\n",
       "      <th>Followers</th>\n",
       "    </tr>\n",
       "  </thead>\n",
       "  <tbody>\n",
       "    <tr>\n",
       "      <th>count</th>\n",
       "      <td>38954.000000</td>\n",
       "    </tr>\n",
       "    <tr>\n",
       "      <th>mean</th>\n",
       "      <td>192.326026</td>\n",
       "    </tr>\n",
       "    <tr>\n",
       "      <th>std</th>\n",
       "      <td>7859.588562</td>\n",
       "    </tr>\n",
       "    <tr>\n",
       "      <th>min</th>\n",
       "      <td>0.000000</td>\n",
       "    </tr>\n",
       "    <tr>\n",
       "      <th>25%</th>\n",
       "      <td>1.000000</td>\n",
       "    </tr>\n",
       "    <tr>\n",
       "      <th>50%</th>\n",
       "      <td>4.000000</td>\n",
       "    </tr>\n",
       "    <tr>\n",
       "      <th>75%</th>\n",
       "      <td>12.000000</td>\n",
       "    </tr>\n",
       "    <tr>\n",
       "      <th>max</th>\n",
       "      <td>1230147.000000</td>\n",
       "    </tr>\n",
       "  </tbody>\n",
       "</table>\n",
       "</div>"
      ],
      "text/plain": [
       "            Followers\n",
       "count    38954.000000\n",
       "mean       192.326026\n",
       "std       7859.588562\n",
       "min          0.000000\n",
       "25%          1.000000\n",
       "50%          4.000000\n",
       "75%         12.000000\n",
       "max    1230147.000000"
      ]
     },
     "execution_count": 5,
     "metadata": {},
     "output_type": "execute_result"
    }
   ],
   "source": [
    "q1 = followers.Followers.quantile(q=0.25)\n",
    "q2 = followers.Followers.quantile(q=0.5)\n",
    "q3= followers.Followers.quantile(q=0.75)\n",
    "pd.DataFrame(followers.Followers.describe())"
   ]
  },
  {
   "cell_type": "raw",
   "metadata": {
    "collapsed": true
   },
   "source": [
    "# For differet quantiles, histogram"
   ]
  },
  {
   "cell_type": "code",
   "execution_count": 136,
   "metadata": {
    "collapsed": false
   },
   "outputs": [
    {
     "data": {
      "image/png": "[encoded data removed]",
      "text/plain": [
       "<matplotlib.figure.Figure at 0x7f0704dc7c50>"
      ]
     },
     "metadata": {},
     "output_type": "display_data"
    },
    {
     "name": "stdout",
     "output_type": "stream",
     "text": [
      "Here the total followers under consideration are 29339.\n"
     ]
    }
   ],
   "source": [
    "# Makes a df of number of followers and total followers with that number.\n",
    "follower_count = pd.DataFrame(followers.groupby('Followers').count()['Name'])\n",
    "follower_count['Total'] = follower_count['Name']\n",
    "follower_count.drop('Name', 1, inplace=True)\n",
    "follower_count.reset_index(inplace= True)\n",
    "\n",
    "# Plots 75% of the data\n",
    "tot = follower_count[follower_count.Followers <= q3].Total.sum()\n",
    "ax = follower_count[follower_count.Followers <= q3].Total.plot.bar(figsize = [10,5], color = 'steelblue')\n",
    "plt.xlabel('Number of Followers')\n",
    "plt.ylabel('Frequency')\n",
    "plt.title('Number of followers for 75% of the data')\n",
    "make_appear_height(ax)\n",
    "\n",
    "print 'Here the total followers under consideration are %i.' % tot\n",
    "\n"
   ]
  },
  {
   "cell_type": "markdown",
   "metadata": {
    "collapsed": true
   },
   "source": [
    "For the rest 25%:"
   ]
  },
  {
   "cell_type": "code",
   "execution_count": 120,
   "metadata": {
    "collapsed": false
   },
   "outputs": [
    {
     "data": {
      "text/html": [
       "<div>\n",
       "<table border=\"1\" class=\"dataframe\">\n",
       "  <thead>\n",
       "    <tr style=\"text-align: right;\">\n",
       "      <th></th>\n",
       "      <th>Followers</th>\n",
       "      <th>Total</th>\n",
       "    </tr>\n",
       "  </thead>\n",
       "  <tbody>\n",
       "    <tr>\n",
       "      <th>count</th>\n",
       "      <td>1158.000000</td>\n",
       "      <td>1158.000000</td>\n",
       "    </tr>\n",
       "    <tr>\n",
       "      <th>mean</th>\n",
       "      <td>5877.401554</td>\n",
       "      <td>8.303109</td>\n",
       "    </tr>\n",
       "    <tr>\n",
       "      <th>std</th>\n",
       "      <td>45235.370161</td>\n",
       "      <td>36.200472</td>\n",
       "    </tr>\n",
       "    <tr>\n",
       "      <th>min</th>\n",
       "      <td>13.000000</td>\n",
       "      <td>1.000000</td>\n",
       "    </tr>\n",
       "    <tr>\n",
       "      <th>25%</th>\n",
       "      <td>306.250000</td>\n",
       "      <td>1.000000</td>\n",
       "    </tr>\n",
       "    <tr>\n",
       "      <th>50%</th>\n",
       "      <td>698.500000</td>\n",
       "      <td>1.000000</td>\n",
       "    </tr>\n",
       "    <tr>\n",
       "      <th>75%</th>\n",
       "      <td>1625.250000</td>\n",
       "      <td>3.000000</td>\n",
       "    </tr>\n",
       "    <tr>\n",
       "      <th>max</th>\n",
       "      <td>1230147.000000</td>\n",
       "      <td>500.000000</td>\n",
       "    </tr>\n",
       "  </tbody>\n",
       "</table>\n",
       "</div>"
      ],
      "text/plain": [
       "            Followers        Total\n",
       "count     1158.000000  1158.000000\n",
       "mean      5877.401554     8.303109\n",
       "std      45235.370161    36.200472\n",
       "min         13.000000     1.000000\n",
       "25%        306.250000     1.000000\n",
       "50%        698.500000     1.000000\n",
       "75%       1625.250000     3.000000\n",
       "max    1230147.000000   500.000000"
      ]
     },
     "execution_count": 120,
     "metadata": {},
     "output_type": "execute_result"
    }
   ],
   "source": [
    "ax = follower_count[follower_count.Followers > q3]\n",
    "q3_of_q3 = int(ax.Followers.quantile(q=0.75))   # Most influential followers\n",
    "ax.describe()"
   ]
  },
  {
   "cell_type": "markdown",
   "metadata": {
    "collapsed": true
   },
   "source": [
    "# List of most influential followers:"
   ]
  },
  {
   "cell_type": "code",
   "execution_count": 131,
   "metadata": {
    "collapsed": false
   },
   "outputs": [
    {
     "name": "stderr",
     "output_type": "stream",
     "text": [
      "/home/rudraksh/anaconda2/lib/python2.7/site-packages/ipykernel/__main__.py:2: FutureWarning: sort(columns=....) is deprecated, use sort_values(by=.....)\n",
      "  from ipykernel import kernelapp as app\n"
     ]
    }
   ],
   "source": [
    "most_inf = followers[followers.Followers >= q3_of_q3]\n",
    "most_inf.sort('Followers').sort_values(by='Followers', ascending=False)  #Sorts the followers\n",
    "most_inf = most_inf.reset_index(None)\n",
    "most_inf.drop(['index', 'Name', 'Statuses', 'Friends', 'Created', 'Contributors' ,\n",
    "               'TweetsFavourite', 'TwitterLists', 'Verified', 'Protected'], 1, inplace=True)\n",
    "\n",
    "# Write to excel\n",
    "most_inf.to_excel('/home/rudraksh/Desktop/Safecity/Twitter/Conclusions/most_influential_followers.xls',\n",
    "                encoding='utf-8')"
   ]
  }
 ],
 "metadata": {
  "kernelspec": {
   "display_name": "Python 2",
   "language": "python",
   "name": "python2"
  },
  "language_info": {
   "codemirror_mode": {
    "name": "ipython",
    "version": 2
   },
   "file_extension": ".py",
   "mimetype": "text/x-python",
   "name": "python",
   "nbconvert_exporter": "python",
   "pygments_lexer": "ipython2",
   "version": "2.7.10"
  }
 },
 "nbformat": 4,
 "nbformat_minor": 0
}
